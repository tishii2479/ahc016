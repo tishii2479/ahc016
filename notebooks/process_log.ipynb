{
 "cells": [
  {
   "cell_type": "code",
   "execution_count": 12,
   "metadata": {},
   "outputs": [],
   "source": [
    "n_map = {}\n",
    "with open(\"../tmp/odd.log\", \"r\") as f:\n",
    "    for line in f.readlines():\n",
    "        line = line.strip().replace(\" \", \"\")\n",
    "        if line[:3] == \"run\" or line[:1] == \"{\":\n",
    "            continue\n",
    "        m, eps, n, score = line.split(\",\")\n",
    "        n_map[(m, eps, n)] = score"
   ]
  },
  {
   "cell_type": "code",
   "execution_count": 13,
   "metadata": {},
   "outputs": [],
   "source": [
    "with open(\"../data/odd_n_map_2.txt\", \"w\") as f:\n",
    "    f.write(str(n_map))\n"
   ]
  },
  {
   "cell_type": "code",
   "execution_count": null,
   "metadata": {},
   "outputs": [],
   "source": []
  }
 ],
 "metadata": {
  "kernelspec": {
   "display_name": "Python 3.10.4 64-bit ('3.10.4')",
   "language": "python",
   "name": "python3"
  },
  "language_info": {
   "codemirror_mode": {
    "name": "ipython",
    "version": 3
   },
   "file_extension": ".py",
   "mimetype": "text/x-python",
   "name": "python",
   "nbconvert_exporter": "python",
   "pygments_lexer": "ipython3",
   "version": "3.10.4"
  },
  "orig_nbformat": 4,
  "vscode": {
   "interpreter": {
    "hash": "2a5fb540920344d2a30df49d123c0d51f1e8fc17e24494fc3a54f6f29186e4c7"
   }
  }
 },
 "nbformat": 4,
 "nbformat_minor": 2
}
