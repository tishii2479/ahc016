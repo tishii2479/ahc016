{
 "cells": [
  {
   "cell_type": "code",
   "execution_count": null,
   "metadata": {},
   "outputs": [],
   "source": [
    "a = [4, 1, 1, 1, 1, 0, 0, 0]\n",
    "b = [2, 2, 2, 2, 0, 0, 0, 0]\n",
    "c = [7, 1, 1, 1, 1, 1, 1, 1]\n",
    "d = [2, 2, 2, 2, 2, 2, 2, 0]\n",
    "e = [2, 2, 2, 2, 2, 0, 0, 0]\n",
    "\n",
    "eps = [0.1, 0.2, 0.3, 0.4]"
   ]
  }
 ],
 "metadata": {
  "kernelspec": {
   "display_name": "Python 3.10.4 64-bit ('3.10.4')",
   "language": "python",
   "name": "python3"
  },
  "language_info": {
   "name": "python",
   "version": "3.10.4"
  },
  "orig_nbformat": 4,
  "vscode": {
   "interpreter": {
    "hash": "2a5fb540920344d2a30df49d123c0d51f1e8fc17e24494fc3a54f6f29186e4c7"
   }
  }
 },
 "nbformat": 4,
 "nbformat_minor": 2
}
