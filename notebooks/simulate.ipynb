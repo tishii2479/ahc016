{
 "cells": [
  {
   "cell_type": "code",
   "execution_count": 63,
   "metadata": {},
   "outputs": [
    {
     "name": "stdout",
     "output_type": "stream",
     "text": [
      "76.46175514595515\n",
      "149 227 78\n"
     ]
    },
    {
     "data": {
      "text/plain": [
       "(0.0, 435.0)"
      ]
     },
     "execution_count": 63,
     "metadata": {},
     "output_type": "execute_result"
    },
    {
     "data": {
      "image/png": "[encoded data removed]",
      "text/plain": [
       "<Figure size 432x288 with 1 Axes>"
      ]
     },
     "metadata": {
      "needs_background": "light"
     },
     "output_type": "display_data"
    }
   ],
   "source": [
    "import matplotlib.pyplot as plt\n",
    "import random\n",
    "import math\n",
    "\n",
    "n = 30\n",
    "eps = 0.30\n",
    "edge_count = n * (n - 1) // 2\n",
    "\n",
    "s = edge_count // 3\n",
    "\n",
    "counter = {}\n",
    "\n",
    "for _ in range(10000):\n",
    "    t = s\n",
    "    for _ in range(edge_count):\n",
    "        if random.random() < eps:\n",
    "            if random.random() < 1 / 3:\n",
    "                t -= 1\n",
    "            else:\n",
    "                t += 1\n",
    "\n",
    "    if t not in counter:\n",
    "        counter[t] = 0\n",
    "    counter[t] += 1\n",
    "\n",
    "a = sorted(counter.items())\n",
    "keys = list(map(lambda x: x[0], a))\n",
    "values = list(map(lambda x: x[1], a))\n",
    "\n",
    "std = math.sqrt(edge_count * eps * (1 - eps))\n",
    "\n",
    "print(std * 8)\n",
    "\n",
    "print(keys[0], keys[-1], keys[-1] - keys[0])\n",
    "\n",
    "plt.plot(keys, values)\n",
    "plt.xlim([0, edge_count])"
   ]
  },
  {
   "cell_type": "code",
   "execution_count": null,
   "metadata": {},
   "outputs": [],
   "source": []
  }
 ],
 "metadata": {
  "kernelspec": {
   "display_name": "Python 3.10.4 64-bit ('3.10.4')",
   "language": "python",
   "name": "python3"
  },
  "language_info": {
   "codemirror_mode": {
    "name": "ipython",
    "version": 3
   },
   "file_extension": ".py",
   "mimetype": "text/x-python",
   "name": "python",
   "nbconvert_exporter": "python",
   "pygments_lexer": "ipython3",
   "version": "3.10.4"
  },
  "orig_nbformat": 4,
  "vscode": {
   "interpreter": {
    "hash": "2a5fb540920344d2a30df49d123c0d51f1e8fc17e24494fc3a54f6f29186e4c7"
   }
  }
 },
 "nbformat": 4,
 "nbformat_minor": 2
}
